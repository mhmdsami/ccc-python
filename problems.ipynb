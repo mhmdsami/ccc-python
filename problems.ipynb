{
 "cells": [
  {
   "cell_type": "code",
   "execution_count": 5,
   "metadata": {},
   "outputs": [
    {
     "name": "stdout",
     "output_type": "stream",
     "text": [
      "[2, 5, 7, 8, 9]\n",
      "[5, 8, 2, 9, 7]\n"
     ]
    }
   ],
   "source": [
    "# list with unique elements\n",
    "lst = [5, 8, 2, 5, 9, 2, 7, 5] # -> [5, 8, 2, 9, 7]\n",
    "\n",
    "new_lst = list(set(lst))\n",
    "print(new_lst)\n",
    "\n",
    "new_lst = []\n",
    "for num in lst:\n",
    "    if num not in new_lst:\n",
    "        new_lst.append(num)\n",
    "print(new_lst)"
   ]
  },
  {
   "cell_type": "code",
   "execution_count": 19,
   "metadata": {},
   "outputs": [
    {
     "name": "stdout",
     "output_type": "stream",
     "text": [
      "{'name': 'T', 'age': 19, 'city': 'Chennai'}\n",
      "{'name': 'T', 'age': 19, 'city': 'Chennai'}\n"
     ]
    }
   ],
   "source": [
    "# generate a dictionary from list of tuples\n",
    "lst = [(\"name\", \"T\"), (\"age\", 19), (\"city\", \"Chennai\")] # -> {\"name\": \"T\", \"age\": 19, \"city\": \"Chennai\"}\n",
    "\n",
    "d = dict(lst)\n",
    "print(d)\n",
    "\n",
    "# if the key and values are interchanged\n",
    "d = {key: val for key, val in lst}\n",
    "print(d)"
   ]
  },
  {
   "cell_type": "code",
   "execution_count": 26,
   "metadata": {},
   "outputs": [
    {
     "name": "stdout",
     "output_type": "stream",
     "text": [
      "interestingly\n"
     ]
    }
   ],
   "source": [
    "# get a string, if the length of the string is greater than 3, add \"ly\" if it ends with \"ing\" else add \"ing\" to the end of the string\n",
    "string = input()\n",
    "\n",
    "if len(string) > 3:\n",
    "    if string.endswith(\"ing\"):\n",
    "        string += \"ly\"\n",
    "    else:\n",
    "        string += \"ing\"\n",
    "\n",
    "print(string)"
   ]
  },
  {
   "cell_type": "code",
   "execution_count": 29,
   "metadata": {},
   "outputs": [
    {
     "name": "stdout",
     "output_type": "stream",
     "text": [
      "elpmas txet\n"
     ]
    }
   ],
   "source": [
    "s = \"sample text\" # \"elpmas txet\"\n",
    "\n",
    "s = \" \".join([string[::-1] for string in s.split()])\n",
    "print(s)"
   ]
  },
  {
   "cell_type": "code",
   "execution_count": 29,
   "metadata": {},
   "outputs": [
    {
     "name": "stdout",
     "output_type": "stream",
     "text": [
      "Ajay ram\n"
     ]
    }
   ],
   "source": [
    "# name with the most common characters with the first name in the list\n",
    "lst = [\"Sami\", \"Ajay ram\", \"Balaram\"]\n",
    "\n",
    "my_name = lst[0]\n",
    "max_count = 0\n",
    "max_count_name = \"\"\n",
    "char_count = { char.lower(): my_name.lower().count(char.lower()) for char in set(my_name) }\n",
    "\n",
    "for name in lst[1:]:\n",
    "    count = 0\n",
    "    for char in char_count:\n",
    "        count += min(char_count[char], name.count(char)) if char in name else 0\n",
    "    \n",
    "    if count > max_count:\n",
    "        max_count = count\n",
    "        max_count_name = name\n",
    "\n",
    "print(max_count_name)"
   ]
  },
  {
   "cell_type": "code",
   "execution_count": 49,
   "metadata": {},
   "outputs": [
    {
     "name": "stdout",
     "output_type": "stream",
     "text": [
      "421\n"
     ]
    }
   ],
   "source": [
    "# swap first and last digit of the number\n",
    "import math\n",
    "num = int(input())\n",
    "\n",
    "place_val = math.floor(math.log10(num))\n",
    "last_digit = num % 10\n",
    "first_digit = num // (10 ** (place_val))\n",
    "\n",
    "num = num - last_digit - (first_digit * (10 ** (place_val))) + (last_digit * (10 ** (place_val))) + first_digit\n",
    "print(num)"
   ]
  },
  {
   "cell_type": "code",
   "execution_count": 2,
   "metadata": {},
   "outputs": [
    {
     "name": "stdout",
     "output_type": "stream",
     "text": [
      "Unlucky!, better luck next time\n"
     ]
    }
   ],
   "source": [
    "s = input()\n",
    "num = int(input())\n",
    "vehicle_num = int(s[-4:])\n",
    "\n",
    "if vehicle_num % 9 == num or (vehicle_num % 9 and num == 9):\n",
    "    print(\"Lucky!\")\n",
    "else:\n",
    "    print(\"Unlucky!, better luck next time\")"
   ]
  }
 ],
 "metadata": {
  "kernelspec": {
   "display_name": "venv",
   "language": "python",
   "name": "python3"
  },
  "language_info": {
   "codemirror_mode": {
    "name": "ipython",
    "version": 3
   },
   "file_extension": ".py",
   "mimetype": "text/x-python",
   "name": "python",
   "nbconvert_exporter": "python",
   "pygments_lexer": "ipython3",
   "version": "3.8.10"
  },
  "orig_nbformat": 4
 },
 "nbformat": 4,
 "nbformat_minor": 2
}
