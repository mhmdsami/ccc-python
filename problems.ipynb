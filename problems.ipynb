{
 "cells": [
  {
   "cell_type": "code",
   "execution_count": 5,
   "metadata": {},
   "outputs": [
    {
     "name": "stdout",
     "output_type": "stream",
     "text": [
      "[2, 5, 7, 8, 9]\n",
      "[5, 8, 2, 9, 7]\n"
     ]
    }
   ],
   "source": [
    "# list with unique elements\n",
    "lst = [5, 8, 2, 5, 9, 2, 7, 5] # -> [5, 8, 2, 9, 7]\n",
    "\n",
    "new_lst = list(set(lst))\n",
    "print(new_lst)\n",
    "\n",
    "new_lst = []\n",
    "for num in lst:\n",
    "    if num not in new_lst:\n",
    "        new_lst.append(num)\n",
    "print(new_lst)"
   ]
  },
  {
   "cell_type": "code",
   "execution_count": 19,
   "metadata": {},
   "outputs": [
    {
     "name": "stdout",
     "output_type": "stream",
     "text": [
      "{'name': 'T', 'age': 19, 'city': 'Chennai'}\n",
      "{'name': 'T', 'age': 19, 'city': 'Chennai'}\n"
     ]
    }
   ],
   "source": [
    "# generate a dictionary from list of tuples\n",
    "lst = [(\"name\", \"T\"), (\"age\", 19), (\"city\", \"Chennai\")] # -> {\"name\": \"T\", \"age\": 19, \"city\": \"Chennai\"}\n",
    "\n",
    "d = dict(lst)\n",
    "print(d)\n",
    "\n",
    "# if the key and values are interchanged\n",
    "d = {key: val for key, val in lst}\n",
    "print(d)"
   ]
  },
  {
   "cell_type": "code",
   "execution_count": 26,
   "metadata": {},
   "outputs": [
    {
     "name": "stdout",
     "output_type": "stream",
     "text": [
      "interestingly\n"
     ]
    }
   ],
   "source": [
    "# get a string, if the length of the string is greater than 3, add \"ly\" if it ends with \"ing\" else add \"ing\" to the end of the string\n",
    "string = input()\n",
    "\n",
    "if len(string) > 3:\n",
    "    if string.endswith(\"ing\"):\n",
    "        string += \"ly\"\n",
    "    else:\n",
    "        string += \"ing\"\n",
    "\n",
    "print(string)"
   ]
  },
  {
   "cell_type": "code",
   "execution_count": 29,
   "metadata": {},
   "outputs": [
    {
     "name": "stdout",
     "output_type": "stream",
     "text": [
      "elpmas txet\n"
     ]
    }
   ],
   "source": [
    "s = \"sample text\" # \"elpmas txet\"\n",
    "\n",
    "s = \" \".join([string[::-1] for string in s.split()])\n",
    "print(s)"
   ]
  }
 ],
 "metadata": {
  "kernelspec": {
   "display_name": "venv",
   "language": "python",
   "name": "python3"
  },
  "language_info": {
   "codemirror_mode": {
    "name": "ipython",
    "version": 3
   },
   "file_extension": ".py",
   "mimetype": "text/x-python",
   "name": "python",
   "nbconvert_exporter": "python",
   "pygments_lexer": "ipython3",
   "version": "3.8.10"
  },
  "orig_nbformat": 4
 },
 "nbformat": 4,
 "nbformat_minor": 2
}
