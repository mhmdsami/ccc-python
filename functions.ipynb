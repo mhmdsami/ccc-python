{
 "cells": [
  {
   "cell_type": "code",
   "execution_count": 1,
   "metadata": {},
   "outputs": [
    {
     "name": "stdout",
     "output_type": "stream",
     "text": [
      "Hello, World!\n",
      "None\n"
     ]
    }
   ],
   "source": [
    "# functions\n",
    "def greet():\n",
    "    print(\"Hello, World!\")\n",
    "\n",
    "print(greet()) # function returns None by default"
   ]
  },
  {
   "cell_type": "code",
   "execution_count": 2,
   "metadata": {},
   "outputs": [
    {
     "name": "stdout",
     "output_type": "stream",
     "text": [
      "Hello,  Thomas\n"
     ]
    }
   ],
   "source": [
    "def greet(name):\n",
    "    print(\"Hello, \", name)\n",
    "\n",
    "greet(\"Thomas\")"
   ]
  },
  {
   "cell_type": "code",
   "execution_count": 7,
   "metadata": {},
   "outputs": [
    {
     "name": "stdout",
     "output_type": "stream",
     "text": [
      "a =  115 b =  22\n",
      "a =  115 b =  22\n",
      "a =  115 b =  22 c =  0\n"
     ]
    }
   ],
   "source": [
    "def print_num(a, b):\n",
    "    print(\"a = \", a, \"b = \", b)\n",
    "\n",
    "# required arguments\n",
    "print_num(115, 22)\n",
    "\n",
    "# keyword arguments\n",
    "print_num(b=22, a=115)\n",
    "\n",
    "# print_num(b=22, 115) -> SyntaxError: positional argument follows keyword argument\n",
    "\n",
    "def print_num(a, b, c=0): # c is a default argument\n",
    "    print(\"a = \", a, \"b = \", b, \"c = \", c)\n",
    "\n",
    "print_num(115, 22) # c is 0 by default"
   ]
  },
  {
   "cell_type": "code",
   "execution_count": 8,
   "metadata": {},
   "outputs": [
    {
     "name": "stdout",
     "output_type": "stream",
     "text": [
      "15\n"
     ]
    }
   ],
   "source": [
    "# variable length arguments\n",
    "def sum_of_nums(*nums):\n",
    "    res = 0\n",
    "    for num in nums:\n",
    "        res += num\n",
    "    return res\n",
    "\n",
    "print(sum_of_nums(1, 2, 3, 4, 5))"
   ]
  },
  {
   "cell_type": "code",
   "execution_count": 9,
   "metadata": {},
   "outputs": [
    {
     "name": "stdout",
     "output_type": "stream",
     "text": [
      "TypeScript Python JavaScript C++\n"
     ]
    }
   ],
   "source": [
    "def my_func():\n",
    "    return (\"Sami\", \"TypeScript\", \"Python\", \"JavaScript\", \"C++\", 19)\n",
    "\n",
    "name, *langs, age = my_func()\n",
    "print(*langs)"
   ]
  },
  {
   "cell_type": "code",
   "execution_count": null,
   "metadata": {},
   "outputs": [],
   "source": [
    "def outer():\n",
    "    print(\"Hello from outer function\")\n",
    "    def inner():\n",
    "        print(\"Hello from inner function\")\n",
    "    inner()\n",
    "\n",
    "outer()\n",
    "# inner() -> NameError: name 'inner' is not defined\n"
   ]
  },
  {
   "cell_type": "code",
   "execution_count": 10,
   "metadata": {},
   "outputs": [
    {
     "name": "stdout",
     "output_type": "stream",
     "text": [
      "Hello from outer function\n",
      "Hello from inner function\n",
      "Hello from global scoped inner function\n"
     ]
    }
   ],
   "source": [
    "def inner():\n",
    "    print(\"Hello from global scoped inner function\")\n",
    "\n",
    "def outer():\n",
    "    print(\"Hello from outer function\")\n",
    "    def inner():\n",
    "        print(\"Hello from inner function\")\n",
    "    inner()\n",
    "\n",
    "outer()\n",
    "inner()"
   ]
  },
  {
   "cell_type": "code",
   "execution_count": 12,
   "metadata": {},
   "outputs": [
    {
     "name": "stdout",
     "output_type": "stream",
     "text": [
      "Hello from outer function\n",
      "Hello from inner function\n"
     ]
    }
   ],
   "source": [
    "def outer():\n",
    "    print(\"Hello from outer function\")\n",
    "    def inner():\n",
    "        print(\"Hello from inner function\")\n",
    "    return inner\n",
    "\n",
    "t = outer() # outer() returns inner function\n",
    "t() # inner()"
   ]
  },
  {
   "cell_type": "code",
   "execution_count": 14,
   "metadata": {},
   "outputs": [
    {
     "name": "stdout",
     "output_type": "stream",
     "text": [
      "1 2 3 4 5 "
     ]
    }
   ],
   "source": [
    "def recursive_func(n):\n",
    "    if n > 0:\n",
    "        recursive_func(n - 1) # head recursion\n",
    "        print(n, end=\" \")\n",
    "\n",
    "recursive_func(5)"
   ]
  },
  {
   "cell_type": "code",
   "execution_count": 17,
   "metadata": {},
   "outputs": [
    {
     "name": "stdout",
     "output_type": "stream",
     "text": [
      "5 4 3 2 1 "
     ]
    }
   ],
   "source": [
    "def recursive_func(n):\n",
    "    if n > 0:\n",
    "        print(n, end=\" \")\n",
    "        recursive_func(n - 1) # tail recursion\n",
    "\n",
    "recursive_func(5)"
   ]
  },
  {
   "cell_type": "code",
   "execution_count": 20,
   "metadata": {},
   "outputs": [
    {
     "name": "stdout",
     "output_type": "stream",
     "text": [
      "ereht ih"
     ]
    }
   ],
   "source": [
    "def reverse_string(string):\n",
    "    if string:\n",
    "        print(string[-1], end=\"\")\n",
    "        reverse_string(string[:-1])\n",
    "\n",
    "reverse_string(\"hi there\")"
   ]
  },
  {
   "cell_type": "code",
   "execution_count": 1,
   "metadata": {},
   "outputs": [
    {
     "name": "stdout",
     "output_type": "stream",
     "text": [
      "global p =  6\n",
      "outer p =  7\n",
      "inner p =  8\n",
      "outer p =  8\n",
      "global p =  6\n"
     ]
    }
   ],
   "source": [
    "p = 6\n",
    "print(\"global p = \", p)\n",
    "def outer():\n",
    "    p = 7\n",
    "    print(\"outer p = \", p)\n",
    "    def inner():\n",
    "        nonlocal p # nonlocal keyword is used to access outer scope variables\n",
    "        p = 8\n",
    "        print(\"inner p = \", p)\n",
    "    inner()\n",
    "    print(\"outer p = \", p)\n",
    "\n",
    "outer()\n",
    "print(\"global p = \", p)"
   ]
  },
  {
   "cell_type": "code",
   "execution_count": 2,
   "metadata": {},
   "outputs": [
    {
     "name": "stdout",
     "output_type": "stream",
     "text": [
      "[1, 4, 9]\n"
     ]
    }
   ],
   "source": [
    "# anonymous functions\n",
    "lst = [1, 2, 3]\n",
    "res = list(map(lambda x: x * x, lst))\n",
    "print(res)"
   ]
  },
  {
   "cell_type": "code",
   "execution_count": 4,
   "metadata": {},
   "outputs": [
    {
     "name": "stdout",
     "output_type": "stream",
     "text": [
      "[1, 2, 6]\n"
     ]
    }
   ],
   "source": [
    "# generate a list of factorials for each of the numbers in the list\n",
    "import math\n",
    "lst = [1, 2, 3]\n",
    "\n",
    "res = list(map(math.factorial, lst))\n",
    "print(res)"
   ]
  }
 ],
 "metadata": {
  "kernelspec": {
   "display_name": "venv",
   "language": "python",
   "name": "python3"
  },
  "language_info": {
   "codemirror_mode": {
    "name": "ipython",
    "version": 3
   },
   "file_extension": ".py",
   "mimetype": "text/x-python",
   "name": "python",
   "nbconvert_exporter": "python",
   "pygments_lexer": "ipython3",
   "version": "3.8.10"
  },
  "orig_nbformat": 4
 },
 "nbformat": 4,
 "nbformat_minor": 2
}
