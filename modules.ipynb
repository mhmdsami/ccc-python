{
 "cells": [
  {
   "cell_type": "code",
   "execution_count": null,
   "metadata": {},
   "outputs": [],
   "source": [
    "# importing entire modules\n",
    "import math\n",
    "\n",
    "# importing specific functions from a module\n",
    "from math import sqrt"
   ]
  },
  {
   "cell_type": "code",
   "execution_count": null,
   "metadata": {},
   "outputs": [],
   "source": [
    "# - math\n",
    "# - random\n",
    "# - os\n",
    "# - collections\n",
    "# - functools\n",
    "# - itertools\n",
    "# - datetime"
   ]
  },
  {
   "cell_type": "code",
   "execution_count": 4,
   "metadata": {},
   "outputs": [
    {
     "name": "stdout",
     "output_type": "stream",
     "text": [
      "['__doc__', '__loader__', '__name__', '__package__', '__spec__', 'acos', 'acosh', 'asin', 'asinh', 'atan', 'atan2', 'atanh', 'ceil', 'comb', 'copysign', 'cos', 'cosh', 'degrees', 'dist', 'e', 'erf', 'erfc', 'exp', 'expm1', 'fabs', 'factorial', 'floor', 'fmod', 'frexp', 'fsum', 'gamma', 'gcd', 'hypot', 'inf', 'isclose', 'isfinite', 'isinf', 'isnan', 'isqrt', 'ldexp', 'lgamma', 'log', 'log10', 'log1p', 'log2', 'modf', 'nan', 'perm', 'pi', 'pow', 'prod', 'radians', 'remainder', 'sin', 'sinh', 'sqrt', 'tan', 'tanh', 'tau', 'trunc']\n",
      "['BPF', 'LOG4', 'NV_MAGICCONST', 'RECIP_BPF', 'Random', 'SG_MAGICCONST', 'SystemRandom', 'TWOPI', '_Sequence', '_Set', '__all__', '__builtins__', '__cached__', '__doc__', '__file__', '__loader__', '__name__', '__package__', '__spec__', '_accumulate', '_acos', '_bisect', '_ceil', '_cos', '_e', '_exp', '_inst', '_log', '_os', '_pi', '_random', '_repeat', '_sha512', '_sin', '_sqrt', '_test', '_test_generator', '_urandom', '_warn', 'betavariate', 'choice', 'choices', 'expovariate', 'gammavariate', 'gauss', 'getrandbits', 'getstate', 'lognormvariate', 'normalvariate', 'paretovariate', 'randint', 'random', 'randrange', 'sample', 'seed', 'setstate', 'shuffle', 'triangular', 'uniform', 'vonmisesvariate', 'weibullvariate']\n"
     ]
    }
   ],
   "source": [
    "import math\n",
    "import random\n",
    "\n",
    "print(dir(math))\n",
    "print(dir(random))"
   ]
  },
  {
   "cell_type": "code",
   "execution_count": 5,
   "metadata": {},
   "outputs": [
    {
     "name": "stdout",
     "output_type": "stream",
     "text": [
      "0.814024520338428\n",
      "59 4\n",
      "6\n"
     ]
    }
   ],
   "source": [
    "import random\n",
    "\n",
    "print(random.random())\n",
    "print(random.randrange(4, 100), 4) # only multiples of 4\n",
    "print(random.randint(1, 10))"
   ]
  },
  {
   "cell_type": "code",
   "execution_count": 8,
   "metadata": {},
   "outputs": [
    {
     "name": "stdout",
     "output_type": "stream",
     "text": [
      "t\n",
      "['t', 't', 'l', 'a']\n"
     ]
    }
   ],
   "source": [
    "lst = ['t', 'a', 'l', 't']\n",
    "\n",
    "print(random.choice(lst))\n",
    "\n",
    "random.shuffle(lst)\n",
    "print(lst)"
   ]
  },
  {
   "cell_type": "code",
   "execution_count": 12,
   "metadata": {},
   "outputs": [
    {
     "name": "stdout",
     "output_type": "stream",
     "text": [
      "50 is high!\n",
      "25 is high!\n",
      "12 is low!\n",
      "20 is low!\n",
      "23 is high!\n",
      "The number was 21\n"
     ]
    }
   ],
   "source": [
    "# guessing game with 5 tries\n",
    "\n",
    "import random\n",
    "\n",
    "number = random.randint(10, 100)\n",
    "tries = 5\n",
    "\n",
    "while tries:\n",
    "    guess = int(input('Guess a number between 1 and 10: '))\n",
    "    if guess == number:\n",
    "        print('You got it!')\n",
    "        break\n",
    "    elif guess < number:\n",
    "        print(f'{guess} is low!')\n",
    "    else:\n",
    "        print(f'{guess} is high!')\n",
    "    tries -= 1\n",
    "else:\n",
    "    print('The number was', number)\n"
   ]
  },
  {
   "cell_type": "code",
   "execution_count": 13,
   "metadata": {},
   "outputs": [
    {
     "name": "stdout",
     "output_type": "stream",
     "text": [
      "[1, 2, 3]\n"
     ]
    }
   ],
   "source": [
    "import functools\n",
    "\n",
    "def append_to_list(lst, item):\n",
    "    lst.append(item)\n",
    "\n",
    "lst = []\n",
    "append_to_list(lst, 1)\n",
    "\n",
    "func = functools.partial(append_to_list, lst)\n",
    "func(2)\n",
    "func(3)\n",
    "\n",
    "print(lst)"
   ]
  },
  {
   "cell_type": "code",
   "execution_count": 15,
   "metadata": {},
   "outputs": [
    {
     "name": "stdout",
     "output_type": "stream",
     "text": [
      "21\n",
      "720\n"
     ]
    }
   ],
   "source": [
    "# reduce\n",
    "import functools\n",
    "\n",
    "def add(x, y):\n",
    "    return x + y\n",
    "\n",
    "print(functools.reduce(add, range(1, 7)))"
   ]
  },
  {
   "cell_type": "code",
   "execution_count": 18,
   "metadata": {},
   "outputs": [
    {
     "name": "stdout",
     "output_type": "stream",
     "text": [
      "70\n"
     ]
    }
   ],
   "source": [
    "lst = [2, 1, 7, 4] # -> 4 + 1 + 49 + 16 = 70\n",
    "\n",
    "print(functools.reduce(lambda x, y: x + y, map(lambda x: x ** 2, lst)))"
   ]
  },
  {
   "cell_type": "code",
   "execution_count": 19,
   "metadata": {},
   "outputs": [
    {
     "name": "stdout",
     "output_type": "stream",
     "text": [
      "['__doc__', '__loader__', '__name__', '__package__', '__spec__', '_grouper', '_tee', '_tee_dataobject', 'accumulate', 'chain', 'combinations', 'combinations_with_replacement', 'compress', 'count', 'cycle', 'dropwhile', 'filterfalse', 'groupby', 'islice', 'permutations', 'product', 'repeat', 'starmap', 'takewhile', 'tee', 'zip_longest']\n"
     ]
    }
   ],
   "source": [
    "import itertools\n",
    "\n",
    "print(dir(itertools))"
   ]
  },
  {
   "cell_type": "code",
   "execution_count": 20,
   "metadata": {},
   "outputs": [
    {
     "name": "stdout",
     "output_type": "stream",
     "text": [
      "[1, 3, 6, 10, 15, 21]\n"
     ]
    }
   ],
   "source": [
    "import itertools\n",
    "\n",
    "def add(x, y):\n",
    "    return x + y\n",
    "\n",
    "lst = [1, 2, 3, 4, 5, 6]\n",
    "\n",
    "print(list(itertools.accumulate(lst, add)))"
   ]
  },
  {
   "cell_type": "code",
   "execution_count": 21,
   "metadata": {},
   "outputs": [
    {
     "name": "stdout",
     "output_type": "stream",
     "text": [
      "[5, 7, 9, 1, 4, 6]\n"
     ]
    }
   ],
   "source": [
    "a  = [5, 7, 9]\n",
    "b = [1, 4, 6]\n",
    "\n",
    "lst = list(itertools.chain(a, b))\n",
    "print(lst)"
   ]
  },
  {
   "cell_type": "code",
   "execution_count": 22,
   "metadata": {},
   "outputs": [
    {
     "name": "stdout",
     "output_type": "stream",
     "text": [
      "[1, 2, 3, 4, 5, 6]\n"
     ]
    }
   ],
   "source": [
    "lst = [[1, 2, 3], [4, 5, 6]]\n",
    "\n",
    "lst = list(itertools.chain.from_iterable(lst))\n",
    "print(lst)"
   ]
  },
  {
   "cell_type": "code",
   "execution_count": 25,
   "metadata": {},
   "outputs": [
    {
     "name": "stdout",
     "output_type": "stream",
     "text": [
      "[(5, 7), (5, 9), (5, 1), (5, 4), (5, 6), (7, 5), (7, 9), (7, 1), (7, 4), (7, 6), (9, 5), (9, 7), (9, 1), (9, 4), (9, 6), (1, 5), (1, 7), (1, 9), (1, 4), (1, 6), (4, 5), (4, 7), (4, 9), (4, 1), (4, 6), (6, 5), (6, 7), (6, 9), (6, 1), (6, 4)]\n",
      "[(5, 7), (5, 9), (5, 1), (5, 4), (5, 6), (7, 9), (7, 1), (7, 4), (7, 6), (9, 1), (9, 4), (9, 6), (1, 4), (1, 6), (4, 6)]\n"
     ]
    }
   ],
   "source": [
    "lst = [5,  7, 9, 1, 4, 6]\n",
    "\n",
    "print(list(itertools.permutations(lst, 2)))\n",
    "print(list(itertools.combinations(lst, 2)))"
   ]
  },
  {
   "cell_type": "code",
   "execution_count": 26,
   "metadata": {},
   "outputs": [
    {
     "name": "stdout",
     "output_type": "stream",
     "text": [
      "[(5, 5), (5, 7), (5, 9), (5, 1), (5, 4), (5, 6), (7, 7), (7, 9), (7, 1), (7, 4), (7, 6), (9, 9), (9, 1), (9, 4), (9, 6), (1, 1), (1, 4), (1, 6), (4, 4), (4, 6), (6, 6)]\n"
     ]
    }
   ],
   "source": [
    "lst = [5,  7, 9, 1, 4, 6]\n",
    "\n",
    "print(list(itertools.combinations_with_replacement(lst, 2)))"
   ]
  },
  {
   "cell_type": "code",
   "execution_count": 28,
   "metadata": {},
   "outputs": [
    {
     "name": "stdout",
     "output_type": "stream",
     "text": [
      "[1, 3, 7]\n"
     ]
    }
   ],
   "source": [
    "lst = [1, 5, 3, 4, 7, 0]\n",
    "\n",
    "print(list(itertools.compress(lst, [1, 0, 1, 0, 1, 0])))"
   ]
  },
  {
   "cell_type": "code",
   "execution_count": null,
   "metadata": {},
   "outputs": [],
   "source": [
    "lst = [1, 5, 3, 4, 7, 0]"
   ]
  }
 ],
 "metadata": {
  "kernelspec": {
   "display_name": "venv",
   "language": "python",
   "name": "python3"
  },
  "language_info": {
   "codemirror_mode": {
    "name": "ipython",
    "version": 3
   },
   "file_extension": ".py",
   "mimetype": "text/x-python",
   "name": "python",
   "nbconvert_exporter": "python",
   "pygments_lexer": "ipython3",
   "version": "3.8.10"
  },
  "orig_nbformat": 4
 },
 "nbformat": 4,
 "nbformat_minor": 2
}
