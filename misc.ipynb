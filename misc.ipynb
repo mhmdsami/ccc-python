{
 "cells": [
  {
   "cell_type": "code",
   "execution_count": 1,
   "metadata": {},
   "outputs": [
    {
     "name": "stdout",
     "output_type": "stream",
     "text": [
      "['python', 'c', 'c++', 'typescript', 'javascript', 'rust', 'haskell']\n",
      "python c c++ typescript javascript rust haskell\n",
      "python, c, c++, typescript, javascript, rust, haskell\n"
     ]
    }
   ],
   "source": [
    "lst = [\"python\", \"c\", \"c++\", \"typescript\", \"javascript\", \"rust\", \"haskell\"]\n",
    "print(lst)\n",
    "print(*lst)\n",
    "print(*lst, sep=\", \")"
   ]
  },
  {
   "cell_type": "code",
   "execution_count": null,
   "metadata": {},
   "outputs": [],
   "source": [
    "# tuple unpacking\n",
    "tup = (1, 2, 3, 4)\n",
    "\n",
    "a, b, c, d = tup\n",
    "print(a, b, c, d)\n",
    "\n",
    "a, b, *c = tup\n",
    "print(a, b, c)\n",
    "\n",
    "a, b, *_ = tup\n",
    "print(a, b)"
   ]
  },
  {
   "cell_type": "code",
   "execution_count": 2,
   "metadata": {},
   "outputs": [
    {
     "name": "stdout",
     "output_type": "stream",
     "text": [
      "<class 'int'>\n",
      "<class 'tuple'>\n",
      "<class 'tuple'>\n"
     ]
    }
   ],
   "source": [
    "t = (1)\n",
    "print(type(t)) # int\n",
    "\n",
    "t = (1,)\n",
    "print(type(t)) # tuple\n",
    "\n",
    "t = 1, 2\n",
    "print(type(t)) # tuple"
   ]
  }
 ],
 "metadata": {
  "kernelspec": {
   "display_name": "venv",
   "language": "python",
   "name": "python3"
  },
  "language_info": {
   "codemirror_mode": {
    "name": "ipython",
    "version": 3
   },
   "file_extension": ".py",
   "mimetype": "text/x-python",
   "name": "python",
   "nbconvert_exporter": "python",
   "pygments_lexer": "ipython3",
   "version": "3.8.10"
  },
  "orig_nbformat": 4
 },
 "nbformat": 4,
 "nbformat_minor": 2
}
