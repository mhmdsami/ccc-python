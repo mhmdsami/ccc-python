{
 "cells": [
  {
   "cell_type": "code",
   "execution_count": 1,
   "metadata": {},
   "outputs": [
    {
     "name": "stdout",
     "output_type": "stream",
     "text": [
      "Hello World!\n"
     ]
    }
   ],
   "source": [
    "print(\"Hello World!\")"
   ]
  },
  {
   "cell_type": "code",
   "execution_count": 3,
   "metadata": {},
   "outputs": [
    {
     "name": "stdout",
     "output_type": "stream",
     "text": [
      "1230\n",
      "32\n"
     ]
    }
   ],
   "source": [
    "# getting input from user\n",
    "a = input()\n",
    "b = input()\n",
    "print(a + b) # concatenation\n",
    "\n",
    "# input() function returns a string, use other constructor to convert it to other data types\n",
    "a = int(input())\n",
    "b = int(input())\n",
    "print(a + b)"
   ]
  },
  {
   "cell_type": "code",
   "execution_count": 4,
   "metadata": {},
   "outputs": [
    {
     "name": "stdout",
     "output_type": "stream",
     "text": [
      "2 1\n"
     ]
    }
   ],
   "source": [
    "# integer and modulo division\n",
    "print(5 // 2, 5 % 2) # 2 1"
   ]
  },
  {
   "cell_type": "code",
   "execution_count": 5,
   "metadata": {},
   "outputs": [
    {
     "name": "stdout",
     "output_type": "stream",
     "text": [
      "240\n"
     ]
    }
   ],
   "source": [
    "# multiply two numbers (Russian Peasant Algorithm)\n",
    "a = int(input())\n",
    "b = int(input())\n",
    "\n",
    "res = 0\n",
    "\n",
    "while (b > 0):\n",
    "    a = a << 1\n",
    "    b = b >> 1\n",
    "\n",
    "    if b & 1:\n",
    "        res += a\n",
    "\n",
    "print(res)"
   ]
  },
  {
   "cell_type": "code",
   "execution_count": 7,
   "metadata": {},
   "outputs": [
    {
     "name": "stdout",
     "output_type": "stream",
     "text": [
      "1\n",
      "01\n",
      "101\n",
      "0101\n"
     ]
    }
   ],
   "source": [
    "for i in range(4):\n",
    "    for j in range(i + 1):\n",
    "        print(\"0\" if (i + j) % 2 else \"1\", end=\"\")\n",
    "    print()"
   ]
  },
  {
   "cell_type": "code",
   "execution_count": 9,
   "metadata": {},
   "outputs": [
    {
     "name": "stdout",
     "output_type": "stream",
     "text": [
      "[21, 45, 12, 78, 90]\n"
     ]
    }
   ],
   "source": [
    "l = [23, 21, 45, 67, 89, 12, 34, 56, 78, 90]\n",
    "l2 = [x for x in l if x % 3 == 0] # list with numbers which are multiple of 3\n",
    "print(l2)"
   ]
  },
  {
   "cell_type": "code",
   "execution_count": 23,
   "metadata": {},
   "outputs": [
    {
     "name": "stdout",
     "output_type": "stream",
     "text": [
      "[[1, 2], [3, 4]]\n"
     ]
    }
   ],
   "source": [
    "n = 2\n",
    "l = [[i * n + j for j in range(1, n + 1)] for i in range(n)]\n",
    "print(l)"
   ]
  },
  {
   "cell_type": "code",
   "execution_count": 24,
   "metadata": {},
   "outputs": [
    {
     "name": "stdout",
     "output_type": "stream",
     "text": [
      "[1, 2, 3, 4, 5, 6, 7, 8, 9]\n"
     ]
    }
   ],
   "source": [
    "l = [[1, 2, 3], [4, 5, 6], [7, 8, 9]]\n",
    "l2 = [j for i in l for j in i]\n",
    "print(l2)"
   ]
  },
  {
   "cell_type": "code",
   "execution_count": 14,
   "metadata": {},
   "outputs": [
    {
     "name": "stdout",
     "output_type": "stream",
     "text": [
      "[2, 7, 8, 3, 4, 5]\n"
     ]
    }
   ],
   "source": [
    "n = 6\n",
    "arr = [2, 7, 3, 5, 8, 4] # arr = [2, 7, 8, 3, 4, 5]\n",
    "# odd numbers at odd positions and even numbers in even positions without change in relative order\n",
    "\n",
    "for i in range(n):\n",
    "    if i % 2 == 0 and arr[i] % 2 != 0:\n",
    "        for j in range(i + 1, n):\n",
    "            if arr[j] % 2 == 0:\n",
    "                arr.insert(i, arr.pop(j))\n",
    "                break\n",
    "    elif i % 2 != 0 and arr[i] % 2 == 0:\n",
    "        for j in range(i + 1, n):\n",
    "            if arr[j] % 2 != 0:\n",
    "                arr.insert(i, arr.pop(j))\n",
    "                break\n",
    "\n",
    "print(arr)"
   ]
  }
 ],
 "metadata": {
  "kernelspec": {
   "display_name": "venv",
   "language": "python",
   "name": "python3"
  },
  "language_info": {
   "codemirror_mode": {
    "name": "ipython",
    "version": 3
   },
   "file_extension": ".py",
   "mimetype": "text/x-python",
   "name": "python",
   "nbconvert_exporter": "python",
   "pygments_lexer": "ipython3",
   "version": "3.8.10"
  },
  "orig_nbformat": 4
 },
 "nbformat": 4,
 "nbformat_minor": 2
}
