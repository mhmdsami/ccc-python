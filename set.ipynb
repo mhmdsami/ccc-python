{
 "cells": [
  {
   "cell_type": "code",
   "execution_count": 2,
   "metadata": {},
   "outputs": [
    {
     "name": "stdout",
     "output_type": "stream",
     "text": [
      "<class 'set'>\n"
     ]
    }
   ],
   "source": [
    "s = set() # {} does NOT create an empty set\n",
    "print(type(s))"
   ]
  },
  {
   "cell_type": "code",
   "execution_count": 6,
   "metadata": {},
   "outputs": [
    {
     "name": "stdout",
     "output_type": "stream",
     "text": [
      "{2, 3, 4, 5}\n"
     ]
    }
   ],
   "source": [
    "s = {2, 3, 3, 4, 5, 2} # duplicates are removed\n",
    "print(s)\n",
    "print(s[3]) # TypeError: 'set' object is not subscriptable"
   ]
  },
  {
   "cell_type": "code",
   "execution_count": 12,
   "metadata": {},
   "outputs": [],
   "source": [
    "s = {2, 3, 4, 5} # can contain only (hashable) immutable objects\n",
    "# set cannot contain mutable objects like list, set or dictionary\n",
    "s = {2, 3, 4, 6, {7, 8}} # TypeError: unhashable type: 'set'"
   ]
  },
  {
   "cell_type": "code",
   "execution_count": 7,
   "metadata": {},
   "outputs": [
    {
     "name": "stdout",
     "output_type": "stream",
     "text": [
      "['__and__', '__class__', '__contains__', '__delattr__', '__dir__', '__doc__', '__eq__', '__format__', '__ge__', '__getattribute__', '__gt__', '__hash__', '__iand__', '__init__', '__init_subclass__', '__ior__', '__isub__', '__iter__', '__ixor__', '__le__', '__len__', '__lt__', '__ne__', '__new__', '__or__', '__rand__', '__reduce__', '__reduce_ex__', '__repr__', '__ror__', '__rsub__', '__rxor__', '__setattr__', '__sizeof__', '__str__', '__sub__', '__subclasshook__', '__xor__', 'add', 'clear', 'copy', 'difference', 'difference_update', 'discard', 'intersection', 'intersection_update', 'isdisjoint', 'issubset', 'issuperset', 'pop', 'remove', 'symmetric_difference', 'symmetric_difference_update', 'union', 'update']\n"
     ]
    }
   ],
   "source": [
    "print(dir(set))"
   ]
  },
  {
   "cell_type": "code",
   "execution_count": 13,
   "metadata": {},
   "outputs": [
    {
     "name": "stdout",
     "output_type": "stream",
     "text": [
      "{2, 3, 4, 5, 6}\n"
     ]
    }
   ],
   "source": [
    "# set.add() -> add an element to the set\n",
    "s = {2, 3, 4, 5}\n",
    "s.add(6)\n",
    "print(s)"
   ]
  },
  {
   "cell_type": "code",
   "execution_count": 21,
   "metadata": {},
   "outputs": [
    {
     "name": "stdout",
     "output_type": "stream",
     "text": [
      "{3, 4, 5}\n"
     ]
    }
   ],
   "source": [
    "# set.pop() -> remove an (random) element from the set\n",
    "s = {2, 3, 4, 5}\n",
    "s.pop() # takes no argument\n",
    "print(s)"
   ]
  },
  {
   "cell_type": "code",
   "execution_count": 23,
   "metadata": {},
   "outputs": [
    {
     "name": "stdout",
     "output_type": "stream",
     "text": [
      "{2, 3, 5}\n"
     ]
    }
   ],
   "source": [
    "# set.remove() -> remove an element from the set\n",
    "s = {2, 3, 4, 5}\n",
    "s.remove(4)\n",
    "print(s)\n",
    "\n",
    "s.remove(6) # KeyError: 6"
   ]
  },
  {
   "cell_type": "code",
   "execution_count": 24,
   "metadata": {},
   "outputs": [
    {
     "name": "stdout",
     "output_type": "stream",
     "text": [
      "set()\n",
      "{2, 3, 4, 5}\n"
     ]
    }
   ],
   "source": [
    "# set.clear() -> remove all elements from the set\n",
    "s = {2, 3, 4, 5}\n",
    "s.clear()\n",
    "print(s)\n",
    "\n",
    "# set.copy() -> return a shallow copy of the set\n",
    "s = {2, 3, 4, 5}\n",
    "s1 = s.copy()\n",
    "print(s1)"
   ]
  },
  {
   "cell_type": "code",
   "execution_count": 25,
   "metadata": {},
   "outputs": [
    {
     "name": "stdout",
     "output_type": "stream",
     "text": [
      "{2, 3, 5}\n",
      "{2, 3, 5}\n"
     ]
    }
   ],
   "source": [
    "# set.discard() -> remove an element from the set if it is present\n",
    "s = {2, 3, 4, 5}\n",
    "s.discard(4)\n",
    "print(s)\n",
    "\n",
    "s.discard(6) # no error\n",
    "print(s)"
   ]
  },
  {
   "cell_type": "code",
   "execution_count": 27,
   "metadata": {},
   "outputs": [
    {
     "name": "stdout",
     "output_type": "stream",
     "text": [
      "{1, 2, 3, 4, 6}\n",
      "{1, 2, 3, 4, 5, 6}\n"
     ]
    }
   ],
   "source": [
    "s1 = {1, 2, 3}\n",
    "s2 = {2, 4, 6}\n",
    "s3 = {1, 3, 5}\n",
    "\n",
    "# set.union(set1, set2, ...) -> return a new set with elements from all sets\n",
    "s = s1.union(s2)\n",
    "print(s)\n",
    "\n",
    "s = s1.union(s2, s3)\n",
    "print(s)"
   ]
  },
  {
   "cell_type": "code",
   "execution_count": 28,
   "metadata": {},
   "outputs": [
    {
     "name": "stdout",
     "output_type": "stream",
     "text": [
      "{2}\n",
      "set()\n"
     ]
    }
   ],
   "source": [
    "s1 = {1, 2, 3}\n",
    "s2 = {2, 4, 6}\n",
    "s3 = {1, 3, 5}\n",
    "\n",
    "# set.intersection(set1, set2, ...) -> return a new set with elements common to all sets\n",
    "s = s1.intersection(s2)\n",
    "print(s)\n",
    "\n",
    "s = s1.intersection(s2, s3)\n",
    "print(s)"
   ]
  },
  {
   "cell_type": "code",
   "execution_count": 29,
   "metadata": {},
   "outputs": [
    {
     "name": "stdout",
     "output_type": "stream",
     "text": [
      "{2}\n"
     ]
    }
   ],
   "source": [
    "s1 = {1, 2, 3}\n",
    "s2 = {2, 4, 6}\n",
    "s3 = {1, 3, 5}\n",
    "\n",
    "# set.intersection_update(set1, set2, ...) -> update the set with elements common to all sets\n",
    "s1.intersection_update(s2) # makes the changes in s1\n",
    "print(s1)"
   ]
  },
  {
   "cell_type": "code",
   "execution_count": 33,
   "metadata": {},
   "outputs": [
    {
     "name": "stdout",
     "output_type": "stream",
     "text": [
      "{1, 3}\n",
      "{4, 6}\n",
      "{1, 3}\n"
     ]
    }
   ],
   "source": [
    "s1 = {1, 2, 3}\n",
    "s2 = {2, 4, 6}\n",
    "\n",
    "# set.difference(set1, set2, ...) -> return a new set with elements in the set that are not in the others\n",
    "s = s1.difference(s2)\n",
    "print(s)\n",
    "\n",
    "s = s2.difference(s1)\n",
    "print(s)\n",
    "\n",
    "# set.difference_update(set1, set2, ...) -> update the set with elements in the set that are not in the others\n",
    "s1.difference_update(s2) # makes the changes in s1\n",
    "print(s1)\n"
   ]
  },
  {
   "cell_type": "code",
   "execution_count": 35,
   "metadata": {},
   "outputs": [
    {
     "name": "stdout",
     "output_type": "stream",
     "text": [
      "{1, 3, 4, 6} {1, 2, 3}\n",
      "{1, 3, 4, 6}\n"
     ]
    }
   ],
   "source": [
    "s1 = {1, 2, 3}\n",
    "s2 = {2, 4, 6}\n",
    "# set.symmetric_difference(set1, set2, ...) -> return a new set with elements in either the set or other but not both\n",
    "s = s1.symmetric_difference(s2)\n",
    "print(s, s1)\n",
    "\n",
    "# set.symmetric_difference_update(set1, set2, ...) -> update the set with elements in either the set or other but not both\n",
    "s1.symmetric_difference_update(s2) # makes the changes in s1\n",
    "print(s1)"
   ]
  },
  {
   "cell_type": "code",
   "execution_count": 36,
   "metadata": {},
   "outputs": [
    {
     "name": "stdout",
     "output_type": "stream",
     "text": [
      "{2}\n",
      "{1, 2, 3, 4, 6}\n",
      "{1, 3}\n",
      "{1, 3, 4, 6}\n"
     ]
    }
   ],
   "source": [
    "s1 = {1, 2, 3}\n",
    "s2 = {2, 4, 6}\n",
    "\n",
    "print(s1 & s2) # intersection\n",
    "print(s1 | s2) # union\n",
    "print(s1 - s2) # difference\n",
    "print(s1 ^ s2) # symmetric difference"
   ]
  },
  {
   "cell_type": "code",
   "execution_count": 38,
   "metadata": {},
   "outputs": [
    {
     "name": "stdout",
     "output_type": "stream",
     "text": [
      "True\n",
      "True\n",
      "False\n"
     ]
    }
   ],
   "source": [
    "s1 = {1, 2, 3}\n",
    "s2 = {2, 4, 6}\n",
    "s3 = {1, 2, 3, 4, 6}\n",
    "\n",
    "# set.issubset(set1) -> return True if the set is a subset of set1\n",
    "print(s1.issubset(s3))\n",
    "\n",
    "# set.issuperset(set1) -> return True if the set is a superset of set1\n",
    "print(s3.issuperset(s1))\n",
    "\n",
    "# set.isdisjoint(set1) -> return True if the set has no elements in common with set1\n",
    "print(s1.isdisjoint(s2))"
   ]
  },
  {
   "cell_type": "code",
   "execution_count": 40,
   "metadata": {},
   "outputs": [
    {
     "name": "stdout",
     "output_type": "stream",
     "text": [
      "{1, 2, 3, 4, 6}\n"
     ]
    }
   ],
   "source": [
    "s1 = {1, 2, 3}\n",
    "s2 = {2, 4, 6}\n",
    "\n",
    "# set.update(set1, set2, ...) -> update the set with elements from all others\n",
    "s1.update(s2)\n",
    "print(s1)"
   ]
  }
 ],
 "metadata": {
  "kernelspec": {
   "display_name": "venv",
   "language": "python",
   "name": "python3"
  },
  "language_info": {
   "codemirror_mode": {
    "name": "ipython",
    "version": 3
   },
   "file_extension": ".py",
   "mimetype": "text/x-python",
   "name": "python",
   "nbconvert_exporter": "python",
   "pygments_lexer": "ipython3",
   "version": "3.8.10"
  },
  "orig_nbformat": 4
 },
 "nbformat": 4,
 "nbformat_minor": 2
}
