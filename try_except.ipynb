{
 "cells": [
  {
   "cell_type": "code",
   "execution_count": 2,
   "metadata": {},
   "outputs": [
    {
     "name": "stdout",
     "output_type": "stream",
     "text": [
      "Index out of range\n"
     ]
    }
   ],
   "source": [
    "lst = [2, 3, 4, 5, 6]\n",
    "\n",
    "try:\n",
    "    print(lst[5])\n",
    "except:\n",
    "    print(\"Index out of range\")"
   ]
  },
  {
   "cell_type": "code",
   "execution_count": 5,
   "metadata": {},
   "outputs": [
    {
     "name": "stdout",
     "output_type": "stream",
     "text": [
      "4\n",
      "Division by zero\n"
     ]
    }
   ],
   "source": [
    "# there can be mutiple except blocks\n",
    "lst = [2, 3, 4, 5, 6]\n",
    "a, b = 1, 0\n",
    "\n",
    "try:\n",
    "    print(lst[2])\n",
    "    print(a/b)\n",
    "except IndexError:\n",
    "    print(\"Index out of range\")\n",
    "except ZeroDivisionError:\n",
    "    print(\"Division by zero\")"
   ]
  },
  {
   "cell_type": "code",
   "execution_count": 7,
   "metadata": {},
   "outputs": [
    {
     "name": "stdout",
     "output_type": "stream",
     "text": [
      "4\n",
      "0.5\n",
      "Some other error\n"
     ]
    }
   ],
   "source": [
    "lst = [2, 3, 4, 5, 6]\n",
    "a, b = 1, 2\n",
    "\n",
    "try:\n",
    "    print(lst[2])\n",
    "    print(a/b)\n",
    "    lst.remove(12)\n",
    "except IndexError:\n",
    "    print(\"Index out of range\")\n",
    "except ZeroDivisionError:\n",
    "    print(\"Division by zero\")\n",
    "except: # this is a catch all block\n",
    "    print(\"Some other error\")"
   ]
  },
  {
   "cell_type": "code",
   "execution_count": 9,
   "metadata": {},
   "outputs": [
    {
     "name": "stdout",
     "output_type": "stream",
     "text": [
      "4\n",
      "Division by zero\n",
      "[3, 4, 5, 6]\n"
     ]
    }
   ],
   "source": [
    "# nested try except\n",
    "lst = [2, 3, 4, 5, 6]\n",
    "a, b = 1, 0\n",
    "\n",
    "try:\n",
    "    print(lst[2])\n",
    "    try:\n",
    "        print(a/b)\n",
    "    except ZeroDivisionError:\n",
    "        print(\"Division by zero\")\n",
    "    lst.remove(2)\n",
    "    print(lst)\n",
    "except IndexError:\n",
    "    print(\"Index out of range\")\n",
    "except:\n",
    "    print(\"Some other error\")"
   ]
  },
  {
   "cell_type": "code",
   "execution_count": 10,
   "metadata": {},
   "outputs": [
    {
     "name": "stdout",
     "output_type": "stream",
     "text": [
      "4\n",
      "This will always be executed\n"
     ]
    }
   ],
   "source": [
    "# finally block\n",
    "lst = [2, 3, 4, 5, 6]\n",
    "\n",
    "try:\n",
    "    print (lst[2])\n",
    "except IndexError:\n",
    "    print(\"Index out of range\")\n",
    "finally:\n",
    "    print(\"This will always be executed\")"
   ]
  }
 ],
 "metadata": {
  "kernelspec": {
   "display_name": "venv",
   "language": "python",
   "name": "python3"
  },
  "language_info": {
   "codemirror_mode": {
    "name": "ipython",
    "version": 3
   },
   "file_extension": ".py",
   "mimetype": "text/x-python",
   "name": "python",
   "nbconvert_exporter": "python",
   "pygments_lexer": "ipython3",
   "version": "3.8.10"
  },
  "orig_nbformat": 4
 },
 "nbformat": 4,
 "nbformat_minor": 2
}
