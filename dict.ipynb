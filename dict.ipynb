{
 "cells": [
  {
   "cell_type": "code",
   "execution_count": 1,
   "metadata": {},
   "outputs": [
    {
     "name": "stdout",
     "output_type": "stream",
     "text": [
      "<class 'dict'>\n"
     ]
    }
   ],
   "source": [
    "d = {} # d = dict()\n",
    "print(type(d))"
   ]
  },
  {
   "cell_type": "code",
   "execution_count": 2,
   "metadata": {},
   "outputs": [
    {
     "name": "stdout",
     "output_type": "stream",
     "text": [
      "{1: 'first again', 2: 'second'}\n"
     ]
    }
   ],
   "source": [
    "d = { 1: \"first\", 2: \"second\", 3: \"third\" }\n",
    "# { key: value, key: value, ... }\n",
    "\n",
    "# key must be unique\n",
    "# if key is duplicated, the last value will be used\n",
    "d = { 1: \"first\", 2: \"second\", 1: \"first again\" }\n",
    "print(d)"
   ]
  },
  {
   "cell_type": "code",
   "execution_count": 3,
   "metadata": {},
   "outputs": [
    {
     "name": "stdout",
     "output_type": "stream",
     "text": [
      "{1: 'first again', 2: 'second', 4: 'fourth'}\n"
     ]
    }
   ],
   "source": [
    "d[4] = \"fourth\"\n",
    "print(d)"
   ]
  },
  {
   "cell_type": "code",
   "execution_count": null,
   "metadata": {},
   "outputs": [],
   "source": [
    "# key must be hashable -> int, float, str, tuple (immutable)\n",
    "d = { [1, 2]: \"list\" } # TypeError: unhashable type: 'list'"
   ]
  },
  {
   "cell_type": "code",
   "execution_count": 23,
   "metadata": {},
   "outputs": [
    {
     "name": "stdout",
     "output_type": "stream",
     "text": [
      "T\n"
     ]
    }
   ],
   "source": [
    "d = { \"name\": \"T\", \"location\": \"LA\" }\n",
    "print(d[\"name\"])"
   ]
  },
  {
   "cell_type": "code",
   "execution_count": 25,
   "metadata": {},
   "outputs": [
    {
     "name": "stdout",
     "output_type": "stream",
     "text": [
      "{'location': 'LA'}\n"
     ]
    }
   ],
   "source": [
    "d = { \"name\": \"T\", \"location\": \"LA\" }\n",
    "# del\n",
    "del d[\"name\"]\n",
    "print(d)\n",
    "\n",
    "del d\n",
    "print(d) # NameError: name 'd' is not defined"
   ]
  },
  {
   "cell_type": "code",
   "execution_count": 10,
   "metadata": {},
   "outputs": [
    {
     "name": "stdout",
     "output_type": "stream",
     "text": [
      "['__class__', '__contains__', '__delattr__', '__delitem__', '__dir__', '__doc__', '__eq__', '__format__', '__ge__', '__getattribute__', '__getitem__', '__gt__', '__hash__', '__init__', '__init_subclass__', '__iter__', '__le__', '__len__', '__lt__', '__ne__', '__new__', '__reduce__', '__reduce_ex__', '__repr__', '__reversed__', '__setattr__', '__setitem__', '__sizeof__', '__str__', '__subclasshook__', 'clear', 'copy', 'fromkeys', 'get', 'items', 'keys', 'pop', 'popitem', 'setdefault', 'update', 'values']\n"
     ]
    }
   ],
   "source": [
    "print(dir(dict))"
   ]
  },
  {
   "cell_type": "code",
   "execution_count": 11,
   "metadata": {},
   "outputs": [
    {
     "name": "stdout",
     "output_type": "stream",
     "text": [
      "{}\n"
     ]
    }
   ],
   "source": [
    "# dict.clear() -> remove all items (clears the dictionary)\n",
    "d = { \"name\": \"T\", \"location\": \"LA\" }\n",
    "d.clear()\n",
    "print(d)"
   ]
  },
  {
   "cell_type": "code",
   "execution_count": 21,
   "metadata": {},
   "outputs": [
    {
     "name": "stdout",
     "output_type": "stream",
     "text": [
      "{'name': 'T', 'location': 'LA'}\n"
     ]
    }
   ],
   "source": [
    "# dict.copy() -> returns a shallow copy of the dictionary\n",
    "d = { \"name\": \"T\", \"location\": \"LA\" }\n",
    "d2 = d.copy()\n",
    "print(d2)"
   ]
  },
  {
   "cell_type": "code",
   "execution_count": 27,
   "metadata": {},
   "outputs": [
    {
     "name": "stdout",
     "output_type": "stream",
     "text": [
      "['name', 'location']\n",
      "['T', 'LA']\n"
     ]
    }
   ],
   "source": [
    "d = { \"name\": \"T\", \"location\": \"LA\" }\n",
    "\n",
    "# dict.keys() -> returns a view object that displays a list of all the keys in the dictionary\n",
    "print(list(d.keys()))\n",
    "\n",
    "# dict.values() -> returns a view object that displays a list of all the values in the dictionary\n",
    "print(list(d.values()))"
   ]
  },
  {
   "cell_type": "code",
   "execution_count": 33,
   "metadata": {},
   "outputs": [
    {
     "name": "stdout",
     "output_type": "stream",
     "text": [
      "T\n",
      "None\n",
      "19\n",
      "{'name': 'T', 'location': 'LA'}\n"
     ]
    }
   ],
   "source": [
    "d = { \"name\": \"T\", \"location\": \"LA\" }\n",
    "# dict.get(key, default) -> returns the value of the specified key\n",
    "print(d.get(\"name\"))\n",
    "\n",
    "print(d.get(\"age\")) # done not throw an error, instead returns None\n",
    "print(d.get(\"age\", 19)) # returns 19 as the key is not found but does not change the dictionary\n",
    "# print(d[\"age\"]) # KeyError: 'age'"
   ]
  },
  {
   "cell_type": "code",
   "execution_count": 34,
   "metadata": {},
   "outputs": [
    {
     "name": "stdout",
     "output_type": "stream",
     "text": [
      "19\n",
      "{'name': 'T', 'location': 'LA', 'age': 19}\n"
     ]
    }
   ],
   "source": [
    "# dict.setdefault(key, default) -> returns the value of the specified key\n",
    "\n",
    "d = { \"name\": \"T\", \"location\": \"LA\" }\n",
    "print(d.setdefault(\"age\", 19)) # since the key is not found, setdefault adds it to the dictionary\n",
    "print(d)"
   ]
  },
  {
   "cell_type": "code",
   "execution_count": 36,
   "metadata": {},
   "outputs": [
    {
     "name": "stdout",
     "output_type": "stream",
     "text": [
      "{'name': 'unknown', 'age': 'unknown', 'location': 'unknown'}\n",
      "{'name': 'T', 'age': 19, 'location': 'unknown'}\n"
     ]
    }
   ],
   "source": [
    "# dict.fromkeys(seq, value) -> returns a dictionary with the specified sequence of keys with the specified value\n",
    "lst = [\"name\", \"age\", \"location\"]\n",
    "d = dict.fromkeys(lst, \"unknown\")\n",
    "print(d)\n",
    "\n",
    "d[\"name\"] = \"T\"\n",
    "d[\"age\"] = 19\n",
    "print(d)"
   ]
  },
  {
   "cell_type": "code",
   "execution_count": 40,
   "metadata": {},
   "outputs": [
    {
     "name": "stdout",
     "output_type": "stream",
     "text": [
      "{1: 1, 2: 4, 3: 9, 4: 16, 5: 25}\n"
     ]
    }
   ],
   "source": [
    "# create a dictionary with keys from 1 to n with values as square of the key\n",
    "n = int(input())\n",
    "d = {i: i ** 2 for i in range(1, n + 1)}\n",
    "print(d)"
   ]
  }
 ],
 "metadata": {
  "kernelspec": {
   "display_name": "venv",
   "language": "python",
   "name": "python3"
  },
  "language_info": {
   "codemirror_mode": {
    "name": "ipython",
    "version": 3
   },
   "file_extension": ".py",
   "mimetype": "text/x-python",
   "name": "python",
   "nbconvert_exporter": "python",
   "pygments_lexer": "ipython3",
   "version": "3.8.10"
  },
  "orig_nbformat": 4
 },
 "nbformat": 4,
 "nbformat_minor": 2
}
